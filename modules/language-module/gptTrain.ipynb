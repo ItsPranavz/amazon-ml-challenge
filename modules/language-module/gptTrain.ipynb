{
 "cells": [
  {
   "cell_type": "code",
   "execution_count": 3,
   "metadata": {},
   "outputs": [
    {
     "name": "stderr",
     "output_type": "stream",
     "text": [
      "c:\\Users\\infin\\AppData\\Local\\Programs\\Python\\Python311\\Lib\\site-packages\\huggingface_hub\\file_download.py:1150: FutureWarning: `resume_download` is deprecated and will be removed in version 1.0.0. Downloads always resume when possible. If you want to force a new download, use `force_download=True`.\n",
      "  warnings.warn(\n"
     ]
    },
    {
     "data": {
      "application/vnd.jupyter.widget-view+json": {
       "model_id": "0f9e23e718514742808e28ab07c646c0",
       "version_major": 2,
       "version_minor": 0
      },
      "text/plain": [
       "Map:   0%|          | 0/89 [00:00<?, ? examples/s]"
      ]
     },
     "metadata": {},
     "output_type": "display_data"
    },
    {
     "data": {
      "application/vnd.jupyter.widget-view+json": {
       "model_id": "0cdefa12ca2e483696eafc6c53d2e0f9",
       "version_major": 2,
       "version_minor": 0
      },
      "text/plain": [
       "Map:   0%|          | 0/10 [00:00<?, ? examples/s]"
      ]
     },
     "metadata": {},
     "output_type": "display_data"
    },
    {
     "name": "stderr",
     "output_type": "stream",
     "text": [
      "c:\\Users\\infin\\AppData\\Local\\Programs\\Python\\Python311\\Lib\\site-packages\\accelerate\\accelerator.py:457: FutureWarning: Passing the following arguments to `Accelerator` is deprecated and will be removed in version 1.0 of Accelerate: dict_keys(['dispatch_batches', 'split_batches']). Please pass an `accelerate.DataLoaderConfiguration` instead: \n",
      "dataloader_config = DataLoaderConfiguration(dispatch_batches=None, split_batches=False)\n",
      "  warnings.warn(\n"
     ]
    },
    {
     "data": {
      "application/vnd.jupyter.widget-view+json": {
       "model_id": "42d9689aaf4c4cd4811ef046f3328197",
       "version_major": 2,
       "version_minor": 0
      },
      "text/plain": [
       "  0%|          | 0/33 [00:00<?, ?it/s]"
      ]
     },
     "metadata": {},
     "output_type": "display_data"
    },
    {
     "name": "stderr",
     "output_type": "stream",
     "text": [
      "Checkpoint destination directory ./checkpoint-10 already exists and is non-empty.Saving will proceed but saved results may be invalid.\n"
     ]
    },
    {
     "name": "stdout",
     "output_type": "stream",
     "text": [
      "{'loss': 8.3566, 'learning_rate': 1.7575757575757576e-05, 'epoch': 0.89}\n"
     ]
    },
    {
     "data": {
      "application/vnd.jupyter.widget-view+json": {
       "model_id": "bbe601a3beb24c199ef397f2a351997f",
       "version_major": 2,
       "version_minor": 0
      },
      "text/plain": [
       "  0%|          | 0/5 [00:00<?, ?it/s]"
      ]
     },
     "metadata": {},
     "output_type": "display_data"
    },
    {
     "name": "stdout",
     "output_type": "stream",
     "text": [
      "{'eval_loss': 3.4077682495117188, 'eval_runtime': 1.7637, 'eval_samples_per_second': 5.67, 'eval_steps_per_second': 2.835, 'epoch': 0.98}\n"
     ]
    },
    {
     "name": "stderr",
     "output_type": "stream",
     "text": [
      "Checkpoint destination directory ./checkpoint-20 already exists and is non-empty.Saving will proceed but saved results may be invalid.\n"
     ]
    },
    {
     "name": "stdout",
     "output_type": "stream",
     "text": [
      "{'loss': 1.2943, 'learning_rate': 1.1515151515151517e-05, 'epoch': 1.78}\n"
     ]
    },
    {
     "data": {
      "application/vnd.jupyter.widget-view+json": {
       "model_id": "9bdf501310704157baa890ba58ed8676",
       "version_major": 2,
       "version_minor": 0
      },
      "text/plain": [
       "  0%|          | 0/5 [00:00<?, ?it/s]"
      ]
     },
     "metadata": {},
     "output_type": "display_data"
    },
    {
     "name": "stdout",
     "output_type": "stream",
     "text": [
      "{'eval_loss': 0.08404259383678436, 'eval_runtime': 1.4338, 'eval_samples_per_second': 6.974, 'eval_steps_per_second': 3.487, 'epoch': 1.96}\n"
     ]
    },
    {
     "name": "stderr",
     "output_type": "stream",
     "text": [
      "Checkpoint destination directory ./checkpoint-30 already exists and is non-empty.Saving will proceed but saved results may be invalid.\n"
     ]
    },
    {
     "name": "stdout",
     "output_type": "stream",
     "text": [
      "{'loss': 0.0754, 'learning_rate': 5.4545454545454545e-06, 'epoch': 2.67}\n"
     ]
    },
    {
     "data": {
      "application/vnd.jupyter.widget-view+json": {
       "model_id": "c12b23aeb75b47809ebc436f219ba07b",
       "version_major": 2,
       "version_minor": 0
      },
      "text/plain": [
       "  0%|          | 0/5 [00:00<?, ?it/s]"
      ]
     },
     "metadata": {},
     "output_type": "display_data"
    },
    {
     "name": "stdout",
     "output_type": "stream",
     "text": [
      "{'eval_loss': 0.041352976113557816, 'eval_runtime': 1.8493, 'eval_samples_per_second': 5.407, 'eval_steps_per_second': 2.704, 'epoch': 2.93}\n",
      "{'train_runtime': 237.3229, 'train_samples_per_second': 1.125, 'train_steps_per_second': 0.139, 'train_loss': 2.952164835099018, 'epoch': 2.93}\n"
     ]
    },
    {
     "name": "stderr",
     "output_type": "stream",
     "text": [
      "c:\\Users\\infin\\AppData\\Local\\Programs\\Python\\Python311\\Lib\\site-packages\\huggingface_hub\\file_download.py:1150: FutureWarning: `resume_download` is deprecated and will be removed in version 1.0.0. Downloads always resume when possible. If you want to force a new download, use `force_download=True`.\n",
      "  warnings.warn(\n",
      "Truncation was not explicitly activated but `max_length` is provided a specific value, please use `truncation=True` to explicitly truncate examples to max length. Defaulting to 'longest_first' truncation strategy. If you encode pairs of sequences (GLUE-style) with the tokenizer you can select this strategy more precisely by providing a specific strategy to `truncation`.\n",
      "Setting `pad_token_id` to `eos_token_id`:50256 for open-end generation.\n",
      "c:\\Users\\infin\\AppData\\Local\\Programs\\Python\\Python311\\Lib\\site-packages\\transformers\\generation\\utils.py:1136: UserWarning: Input length of input_ids is 50, but `max_length` is set to 50. This can lead to unexpected behavior. You should consider increasing `max_new_tokens`.\n",
      "  warnings.warn(\n"
     ]
    },
    {
     "name": "stdout",
     "output_type": "stream",
     "text": [
      "[{'generated_text': \"Extract the item_weight from the following text: NATURE PROP@S' DESODORISER LE LINGE. QUI PERMETIENT LE NETTOYAGE & SEC DES TACHES RECALITRANTES SUR TOUTES IES SURFACES (MOQUETTE TAPIS, PARQUET...).ELLE EST AUST EFRICACE P @INGREDIENT : BENTONITE 100%) DOSAGE CONSEELLE : SELON USAGE. @ 5000 g STOCKAGE : DENG ON EMPRIAGE FORMS, A FABIL OR IN OR PROCOUNTIONS : TENER BARS BE PORDE DES ENTANTS INGREDIENT MENAGER ANTISION LOT: PNSON202021:003 80103 7585 ** PROP: LABORATORE PROPOS'NATURE MULTI-USAGE SOMEARIES TERRE DE 100% NATUREL DE ARGLLE 100% PURE ET NATUREILE, LA TEREE SOMMIERES PRESENTE DES PROPRIETES ABSORBANTES\"}]\n"
     ]
    }
   ],
   "source": [
    "import pandas as pd\n",
    "from transformers import GPT2Tokenizer, GPT2LMHeadModel, Trainer, TrainingArguments\n",
    "from datasets import Dataset, DatasetDict\n",
    "from torch.utils.data import DataLoader\n",
    "from transformers import default_data_collator\n",
    "\n",
    "# Load CSV data into a DataFrame\n",
    "df = pd.read_csv('../../data/data-extracted.csv')\n",
    "\n",
    "# Create prompts and responses\n",
    "def create_prompt(row):\n",
    "    return f\"Extract the {row['entity_name']} from the following text: {row['extracted_text']}\"\n",
    "\n",
    "def create_response(row):\n",
    "    return row['entity_value']\n",
    "\n",
    "df['prompt'] = df.apply(create_prompt, axis=1)\n",
    "df['response'] = df.apply(create_response, axis=1)\n",
    "\n",
    "# Convert DataFrame to Dataset\n",
    "dataset = Dataset.from_pandas(df[['prompt', 'response']])\n",
    "\n",
    "# Split dataset into training and evaluation\n",
    "dataset = dataset.train_test_split(test_size=0.1)\n",
    "train_dataset = dataset['train']\n",
    "eval_dataset = dataset['test']\n",
    "\n",
    "# Initialize Tokenizer and Model\n",
    "model_name = 'gpt2'  # or 'distilgpt2' for a smaller model\n",
    "tokenizer = GPT2Tokenizer.from_pretrained(model_name)\n",
    "model = GPT2LMHeadModel.from_pretrained(model_name)\n",
    "\n",
    "# Set pad_token to eos_token if it does not exist\n",
    "if tokenizer.pad_token is None:\n",
    "    tokenizer.pad_token = tokenizer.eos_token\n",
    "\n",
    "# Tokenize the Dataset\n",
    "def tokenize_function(examples):\n",
    "    prompts = tokenizer(examples['prompt'], padding='max_length', truncation=True, max_length=512)\n",
    "    responses = tokenizer(examples['response'], padding='max_length', truncation=True, max_length=128)\n",
    "    \n",
    "    # Ensure labels are correctly aligned with inputs\n",
    "    labels = responses['input_ids']\n",
    "    \n",
    "    # Align the lengths of inputs and labels\n",
    "    max_length = len(prompts['input_ids'][0])\n",
    "    labels = [l[:max_length] + [tokenizer.pad_token_id] * (max_length - len(l)) for l in labels]\n",
    "    \n",
    "    return {\n",
    "        'input_ids': prompts['input_ids'],\n",
    "        'attention_mask': prompts['attention_mask'],\n",
    "        'labels': labels\n",
    "    }\n",
    "\n",
    "# Tokenize the datasets\n",
    "tokenized_datasets = dataset.map(tokenize_function, batched=True, remove_columns=['prompt', 'response'])\n",
    "\n",
    "# DataLoader to handle batching\n",
    "train_dataloader = DataLoader(tokenized_datasets['train'], batch_size=2, collate_fn=default_data_collator)\n",
    "eval_dataloader = DataLoader(tokenized_datasets['test'], batch_size=2, collate_fn=default_data_collator)\n",
    "\n",
    "# Define Training Arguments\n",
    "training_args = TrainingArguments(\n",
    "    output_dir='./',\n",
    "    evaluation_strategy=\"epoch\",\n",
    "    learning_rate=2e-5,\n",
    "    per_device_train_batch_size=2,  # Reduced batch size\n",
    "    per_device_eval_batch_size=2,   # Reduced batch size\n",
    "    num_train_epochs=3,\n",
    "    weight_decay=0.01,\n",
    "    logging_dir='./logs',\n",
    "    logging_steps=10,\n",
    "    save_steps=10,\n",
    "    save_total_limit=3,\n",
    "    fp16=True,\n",
    "    gradient_accumulation_steps=4,  # Accumulate gradients over 4 steps\n",
    ")\n",
    "\n",
    "# Initialize Trainer\n",
    "trainer = Trainer(\n",
    "    model=model,\n",
    "    args=training_args,\n",
    "    train_dataset=tokenized_datasets['train'],\n",
    "    eval_dataset=tokenized_datasets['test'],\n",
    "    data_collator=default_data_collator,  # Automatically pads the data\n",
    ")\n",
    "\n",
    "# Start Training\n",
    "trainer.train()\n",
    "\n",
    "# Save the Fine-Tuned Model\n",
    "model.save_pretrained('./fine_tuned_gpt2')\n",
    "tokenizer.save_pretrained('./fine_tuned_gpt2')\n",
    "\n",
    "# Example Usage\n",
    "from transformers import pipeline\n",
    "\n",
    "# Load the fine-tuned model\n",
    "generator = pipeline('text-generation', model='./fine_tuned_gpt2', tokenizer=model_name)\n",
    "\n",
    "# Example prompt\n",
    "prompt = \"Extract the item_weight from the following text: NATURE PROP@S' DESODORISER LE LINGE. QUI PERMETIENT LE NETTOYAGE & SEC DES TACHES RECALITRANTES SUR TOUTES IES SURFACES (MOQUETTE TAPIS, PARQUET...).ELLE EST AUST EFRICACE P @INGREDIENT : BENTONITE 100%) DOSAGE CONSEELLE : SELON USAGE. @ 5000 g STOCKAGE : DENG ON EMPRIAGE FORMS, A FABIL OR IN OR PROCOUNTIONS : TENER BARS BE PORDE DES ENTANTS INGREDIENT MENAGER ANTISION LOT: PNSON202021:003 80103 7585 ** PROP: LABORATORE PROPOS'NATURE MULTI-USAGE SOMEARIES TERRE DE 100% NATUREL DE ARGLLE 100% PURE ET NATUREILE, LA TEREE SOMMIERES PRESENTE DES PROPRIETES ABSORBANTES\"\n",
    "\n",
    "response = generator(prompt, max_length=50)\n",
    "print(response)"
   ]
  },
  {
   "cell_type": "code",
   "execution_count": 5,
   "metadata": {},
   "outputs": [
    {
     "name": "stderr",
     "output_type": "stream",
     "text": [
      "Setting `pad_token_id` to `eos_token_id`:50256 for open-end generation.\n"
     ]
    },
    {
     "name": "stdout",
     "output_type": "stream",
     "text": [
      "[{'generated_text': 'How are you?'}]\n"
     ]
    }
   ],
   "source": [
    "response = generator(\"How are you?\", max_length=50)\n",
    "print(response)"
   ]
  },
  {
   "cell_type": "code",
   "execution_count": null,
   "metadata": {},
   "outputs": [],
   "source": []
  }
 ],
 "metadata": {
  "kernelspec": {
   "display_name": "Python 3",
   "language": "python",
   "name": "python3"
  },
  "language_info": {
   "codemirror_mode": {
    "name": "ipython",
    "version": 3
   },
   "file_extension": ".py",
   "mimetype": "text/x-python",
   "name": "python",
   "nbconvert_exporter": "python",
   "pygments_lexer": "ipython3",
   "version": "3.11.1"
  }
 },
 "nbformat": 4,
 "nbformat_minor": 2
}
