{
 "cells": [
  {
   "cell_type": "code",
   "execution_count": 1,
   "metadata": {},
   "outputs": [
    {
     "name": "stdout",
     "output_type": "stream",
     "text": [
      "WARNING:tensorflow:From c:\\Users\\infin\\AppData\\Local\\Programs\\Python\\Python311\\Lib\\site-packages\\keras\\src\\losses.py:2976: The name tf.losses.sparse_softmax_cross_entropy is deprecated. Please use tf.compat.v1.losses.sparse_softmax_cross_entropy instead.\n",
      "\n"
     ]
    }
   ],
   "source": [
    "from transformers import TrOCRProcessor\n",
    "\n",
    "processor = TrOCRProcessor.from_pretrained(\"microsoft/trocr-small-printed\")"
   ]
  },
  {
   "cell_type": "code",
   "execution_count": 2,
   "metadata": {},
   "outputs": [
    {
     "data": {
      "application/vnd.jupyter.widget-view+json": {
       "model_id": "3d19eae5a5af4416a5893f7b50b507fd",
       "version_major": 2,
       "version_minor": 0
      },
      "text/plain": [
       "config.json:   0%|          | 0.00/4.21k [00:00<?, ?B/s]"
      ]
     },
     "metadata": {},
     "output_type": "display_data"
    },
    {
     "name": "stderr",
     "output_type": "stream",
     "text": [
      "c:\\Users\\infin\\AppData\\Local\\Programs\\Python\\Python311\\Lib\\site-packages\\huggingface_hub\\file_download.py:149: UserWarning: `huggingface_hub` cache-system uses symlinks by default to efficiently store duplicated files but your machine does not support them in C:\\Users\\infin\\.cache\\huggingface\\hub\\models--microsoft--trocr-small-printed. Caching files will still work but in a degraded version that might require more space on your disk. This warning can be disabled by setting the `HF_HUB_DISABLE_SYMLINKS_WARNING` environment variable. For more details, see https://huggingface.co/docs/huggingface_hub/how-to-cache#limitations.\n",
      "To support symlinks on Windows, you either need to activate Developer Mode or to run Python as an administrator. In order to see activate developer mode, see this article: https://docs.microsoft.com/en-us/windows/apps/get-started/enable-your-device-for-development\n",
      "  warnings.warn(message)\n"
     ]
    },
    {
     "data": {
      "application/vnd.jupyter.widget-view+json": {
       "model_id": "ca4148c94bda4dc4bc87040cc04df376",
       "version_major": 2,
       "version_minor": 0
      },
      "text/plain": [
       "model.safetensors:   0%|          | 0.00/246M [00:00<?, ?B/s]"
      ]
     },
     "metadata": {},
     "output_type": "display_data"
    },
    {
     "name": "stderr",
     "output_type": "stream",
     "text": [
      "Some weights of VisionEncoderDecoderModel were not initialized from the model checkpoint at microsoft/trocr-small-printed and are newly initialized: ['encoder.pooler.dense.bias', 'encoder.pooler.dense.weight']\n",
      "You should probably TRAIN this model on a down-stream task to be able to use it for predictions and inference.\n"
     ]
    },
    {
     "data": {
      "application/vnd.jupyter.widget-view+json": {
       "model_id": "b78dc9f4dfbe43f99ef3122f76b8d30b",
       "version_major": 2,
       "version_minor": 0
      },
      "text/plain": [
       "generation_config.json:   0%|          | 0.00/190 [00:00<?, ?B/s]"
      ]
     },
     "metadata": {},
     "output_type": "display_data"
    }
   ],
   "source": [
    "from transformers import VisionEncoderDecoderModel\n",
    "\n",
    "model = VisionEncoderDecoderModel.from_pretrained(\"microsoft/trocr-small-printed\")"
   ]
  },
  {
   "cell_type": "code",
   "execution_count": 5,
   "metadata": {},
   "outputs": [
    {
     "name": "stdout",
     "output_type": "stream",
     "text": [
      "CUDA Available: True\n",
      "Number of GPUs Available: 1\n",
      "Current Device: 0\n",
      "Device Name: NVIDIA GeForce RTX 3050 Laptop GPU\n"
     ]
    }
   ],
   "source": [
    "import torch\n",
    "\n",
    "print(\"CUDA Available:\", torch.cuda.is_available())\n",
    "print(\"Number of GPUs Available:\", torch.cuda.device_count())\n",
    "print(\"Current Device:\", torch.cuda.current_device())\n",
    "print(\"Device Name:\", torch.cuda.get_device_name(torch.cuda.current_device()))"
   ]
  },
  {
   "cell_type": "code",
   "execution_count": 3,
   "metadata": {},
   "outputs": [
    {
     "name": "stderr",
     "output_type": "stream",
     "text": [
      "c:\\Users\\infin\\AppData\\Local\\Programs\\Python\\Python311\\Lib\\site-packages\\transformers\\generation\\utils.py:1128: UserWarning: Using the model-agnostic default `max_length` (=20) to control the generation length. We recommend setting `max_new_tokens` to control the maximum length of the generation.\n",
      "  warnings.warn(\n"
     ]
    },
    {
     "name": "stdout",
     "output_type": "stream",
     "text": [
      "Updated data saved to ../../data/data-extracted.csv\n"
     ]
    },
    {
     "data": {
      "text/html": [
       "<div>\n",
       "<style scoped>\n",
       "    .dataframe tbody tr th:only-of-type {\n",
       "        vertical-align: middle;\n",
       "    }\n",
       "\n",
       "    .dataframe tbody tr th {\n",
       "        vertical-align: top;\n",
       "    }\n",
       "\n",
       "    .dataframe thead th {\n",
       "        text-align: right;\n",
       "    }\n",
       "</style>\n",
       "<table border=\"1\" class=\"dataframe\">\n",
       "  <thead>\n",
       "    <tr style=\"text-align: right;\">\n",
       "      <th></th>\n",
       "      <th>image_link</th>\n",
       "      <th>group_id</th>\n",
       "      <th>entity_name</th>\n",
       "      <th>entity_value</th>\n",
       "      <th>extracted_text</th>\n",
       "    </tr>\n",
       "  </thead>\n",
       "  <tbody>\n",
       "    <tr>\n",
       "      <th>0</th>\n",
       "      <td>https://m.media-amazon.com/images/I/61I9XdN6OF...</td>\n",
       "      <td>748919</td>\n",
       "      <td>item_weight</td>\n",
       "      <td>500.0 gram</td>\n",
       "      <td>NATURE PROP@S' DESODORISER LE LINGE. QUI PERME...</td>\n",
       "    </tr>\n",
       "    <tr>\n",
       "      <th>1</th>\n",
       "      <td>https://m.media-amazon.com/images/I/71gSRbyXmo...</td>\n",
       "      <td>916768</td>\n",
       "      <td>item_volume</td>\n",
       "      <td>1.0 cup</td>\n",
       "      <td>MCIOUS/ CONVENTION WITH ASYDU LIKE V DESIGNED ...</td>\n",
       "    </tr>\n",
       "    <tr>\n",
       "      <th>2</th>\n",
       "      <td>https://m.media-amazon.com/images/I/61BZ4zrjZX...</td>\n",
       "      <td>459516</td>\n",
       "      <td>item_weight</td>\n",
       "      <td>0.709 gram</td>\n",
       "      <td>COMPOSITION 50 MG 25 mg SERVING SIZE: 1 TABLET...</td>\n",
       "    </tr>\n",
       "    <tr>\n",
       "      <th>3</th>\n",
       "      <td>https://m.media-amazon.com/images/I/612mrlqiI4...</td>\n",
       "      <td>459516</td>\n",
       "      <td>item_weight</td>\n",
       "      <td>0.709 gram</td>\n",
       "      <td>THIS PRODUCT IS YOU ARE PREGNANT, RURSING, BRI...</td>\n",
       "    </tr>\n",
       "    <tr>\n",
       "      <th>4</th>\n",
       "      <td>https://m.media-amazon.com/images/I/617Tl40LOX...</td>\n",
       "      <td>731432</td>\n",
       "      <td>item_weight</td>\n",
       "      <td>1400 milligram</td>\n",
       "      <td>HORBEACH HIGH STRENGTH CAPSULES HUSK PSYLLIUM ...</td>\n",
       "    </tr>\n",
       "    <tr>\n",
       "      <th>...</th>\n",
       "      <td>...</td>\n",
       "      <td>...</td>\n",
       "      <td>...</td>\n",
       "      <td>...</td>\n",
       "      <td>...</td>\n",
       "    </tr>\n",
       "    <tr>\n",
       "      <th>94</th>\n",
       "      <td>https://m.media-amazon.com/images/I/61Dq3LRei9...</td>\n",
       "      <td>523149</td>\n",
       "      <td>item_weight</td>\n",
       "      <td>10.0 kilogram</td>\n",
       "      <td>0.00 FOR RINETT SILICONE RINGS</td>\n",
       "    </tr>\n",
       "    <tr>\n",
       "      <th>95</th>\n",
       "      <td>https://m.media-amazon.com/images/I/71XK5d3Oh9...</td>\n",
       "      <td>416664</td>\n",
       "      <td>wattage</td>\n",
       "      <td>49.0 watt</td>\n",
       "      <td></td>\n",
       "    </tr>\n",
       "    <tr>\n",
       "      <th>96</th>\n",
       "      <td>https://m.media-amazon.com/images/I/61kyBEJYDe...</td>\n",
       "      <td>459516</td>\n",
       "      <td>item_weight</td>\n",
       "      <td>500 milligram</td>\n",
       "      <td>TERTAL MAX GREEN DISCOVER WELLNESS COTEL 60 BU...</td>\n",
       "    </tr>\n",
       "    <tr>\n",
       "      <th>97</th>\n",
       "      <td>https://m.media-amazon.com/images/I/71uQmsTESv...</td>\n",
       "      <td>459516</td>\n",
       "      <td>item_weight</td>\n",
       "      <td>500 milligram</td>\n",
       "      <td>TOTAL MAX HEALTHY BENEFITS OF GREEN COFFEE SYS...</td>\n",
       "    </tr>\n",
       "    <tr>\n",
       "      <th>98</th>\n",
       "      <td>https://m.media-amazon.com/images/I/71jG8BOi4W...</td>\n",
       "      <td>241608</td>\n",
       "      <td>item_weight</td>\n",
       "      <td>16.0 gram</td>\n",
       "      <td>ANTI-RUST ANTI-SCRATCH WATER REPELENT 16G THIC...</td>\n",
       "    </tr>\n",
       "  </tbody>\n",
       "</table>\n",
       "<p>99 rows × 5 columns</p>\n",
       "</div>"
      ],
      "text/plain": [
       "                                           image_link  group_id  entity_name  \\\n",
       "0   https://m.media-amazon.com/images/I/61I9XdN6OF...    748919  item_weight   \n",
       "1   https://m.media-amazon.com/images/I/71gSRbyXmo...    916768  item_volume   \n",
       "2   https://m.media-amazon.com/images/I/61BZ4zrjZX...    459516  item_weight   \n",
       "3   https://m.media-amazon.com/images/I/612mrlqiI4...    459516  item_weight   \n",
       "4   https://m.media-amazon.com/images/I/617Tl40LOX...    731432  item_weight   \n",
       "..                                                ...       ...          ...   \n",
       "94  https://m.media-amazon.com/images/I/61Dq3LRei9...    523149  item_weight   \n",
       "95  https://m.media-amazon.com/images/I/71XK5d3Oh9...    416664      wattage   \n",
       "96  https://m.media-amazon.com/images/I/61kyBEJYDe...    459516  item_weight   \n",
       "97  https://m.media-amazon.com/images/I/71uQmsTESv...    459516  item_weight   \n",
       "98  https://m.media-amazon.com/images/I/71jG8BOi4W...    241608  item_weight   \n",
       "\n",
       "      entity_value                                     extracted_text  \n",
       "0       500.0 gram  NATURE PROP@S' DESODORISER LE LINGE. QUI PERME...  \n",
       "1          1.0 cup  MCIOUS/ CONVENTION WITH ASYDU LIKE V DESIGNED ...  \n",
       "2       0.709 gram  COMPOSITION 50 MG 25 mg SERVING SIZE: 1 TABLET...  \n",
       "3       0.709 gram  THIS PRODUCT IS YOU ARE PREGNANT, RURSING, BRI...  \n",
       "4   1400 milligram  HORBEACH HIGH STRENGTH CAPSULES HUSK PSYLLIUM ...  \n",
       "..             ...                                                ...  \n",
       "94   10.0 kilogram                     0.00 FOR RINETT SILICONE RINGS  \n",
       "95       49.0 watt                                                     \n",
       "96   500 milligram  TERTAL MAX GREEN DISCOVER WELLNESS COTEL 60 BU...  \n",
       "97   500 milligram  TOTAL MAX HEALTHY BENEFITS OF GREEN COFFEE SYS...  \n",
       "98       16.0 gram  ANTI-RUST ANTI-SCRATCH WATER REPELENT 16G THIC...  \n",
       "\n",
       "[99 rows x 5 columns]"
      ]
     },
     "execution_count": 3,
     "metadata": {},
     "output_type": "execute_result"
    }
   ],
   "source": [
    "import os\n",
    "import pandas as pd\n",
    "from PIL import Image\n",
    "import torch\n",
    "from transformers import AutoTokenizer, AutoModelForCausalLM\n",
    "from concurrent.futures import ThreadPoolExecutor, as_completed\n",
    "\n",
    "# Define paths\n",
    "data_csv_path = '../../data/data-cross-section.csv'\n",
    "images_dir = '../../data/preprocessed'\n",
    "output_csv_path = '../../data/data-extracted.csv'\n",
    "\n",
    "# Load CSV file\n",
    "df = pd.read_csv(data_csv_path)\n",
    "\n",
    "# Load processor and model\n",
    "device = torch.device('cuda' if torch.cuda.is_available() else 'cpu')\n",
    "model.to(device)\n",
    "\n",
    "def extract_text_from_image(image_path):\n",
    "    # Load image\n",
    "    image = Image.open(image_path).convert(\"RGB\")\n",
    "    \n",
    "    # Preprocess image\n",
    "    pixel_values = processor(image, return_tensors=\"pt\").pixel_values.to(device)\n",
    "    \n",
    "    # Perform OCR\n",
    "    with torch.no_grad():\n",
    "        generated_ids = model.generate(pixel_values)\n",
    "        generated_text = processor.batch_decode(generated_ids, skip_special_tokens=True)[0]\n",
    "    \n",
    "    return generated_text\n",
    "\n",
    "def process_image(index, folder_path, image_name):\n",
    "    image_path = os.path.join(folder_path, image_name)\n",
    "    extracted_text = extract_text_from_image(image_path)\n",
    "    \n",
    "    # Update DataFrame entry\n",
    "    current_text = df.at[index, 'extracted_text']\n",
    "    if current_text:\n",
    "        df.at[index, 'extracted_text'] = f\"{current_text} {extracted_text}\"\n",
    "    else:\n",
    "        df.at[index, 'extracted_text'] = extracted_text\n",
    "\n",
    "# Ensure 'extracted_text' column exists in DataFrame\n",
    "if 'extracted_text' not in df.columns:\n",
    "    df['extracted_text'] = ''\n",
    "\n",
    "# Create a ThreadPoolExecutor for parallel processing\n",
    "with ThreadPoolExecutor(max_workers=4) as executor:\n",
    "    futures = []\n",
    "    for index, row in df.iterrows():\n",
    "        folder_path = os.path.join(images_dir, str(index))\n",
    "        if os.path.exists(folder_path):\n",
    "            for image_name in os.listdir(folder_path):\n",
    "                futures.append(executor.submit(process_image, index, folder_path, image_name))\n",
    "    \n",
    "    # Wait for all futures to complete\n",
    "    for future in as_completed(futures):\n",
    "        future.result()  # To handle exceptions if needed\n",
    "\n",
    "# Save the updated DataFrame to a new CSV file\n",
    "df.to_csv(output_csv_path, index=False)\n",
    "\n",
    "print(f\"Updated data saved to {output_csv_path}\")\n",
    "\n",
    "df"
   ]
  }
 ],
 "metadata": {
  "kernelspec": {
   "display_name": "Python 3",
   "language": "python",
   "name": "python3"
  },
  "language_info": {
   "codemirror_mode": {
    "name": "ipython",
    "version": 3
   },
   "file_extension": ".py",
   "mimetype": "text/x-python",
   "name": "python",
   "nbconvert_exporter": "python",
   "pygments_lexer": "ipython3",
   "version": "3.11.1"
  }
 },
 "nbformat": 4,
 "nbformat_minor": 2
}
