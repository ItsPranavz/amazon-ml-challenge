{
 "cells": [
  {
   "cell_type": "code",
   "execution_count": 12,
   "metadata": {},
   "outputs": [
    {
     "data": {
      "application/vnd.jupyter.widget-view+json": {
       "model_id": "f6166d7be0d647b682112a20b0ffcd61",
       "version_major": 2,
       "version_minor": 0
      },
      "text/plain": [
       "preprocessor_config.json:   0%|          | 0.00/224 [00:00<?, ?B/s]"
      ]
     },
     "metadata": {},
     "output_type": "display_data"
    },
    {
     "name": "stderr",
     "output_type": "stream",
     "text": [
      "c:\\Users\\infin\\AppData\\Local\\Programs\\Python\\Python311\\Lib\\site-packages\\huggingface_hub\\file_download.py:149: UserWarning: `huggingface_hub` cache-system uses symlinks by default to efficiently store duplicated files but your machine does not support them in C:\\Users\\infin\\.cache\\huggingface\\hub\\models--microsoft--trocr-base-printed. Caching files will still work but in a degraded version that might require more space on your disk. This warning can be disabled by setting the `HF_HUB_DISABLE_SYMLINKS_WARNING` environment variable. For more details, see https://huggingface.co/docs/huggingface_hub/how-to-cache#limitations.\n",
      "To support symlinks on Windows, you either need to activate Developer Mode or to run Python as an administrator. In order to see activate developer mode, see this article: https://docs.microsoft.com/en-us/windows/apps/get-started/enable-your-device-for-development\n",
      "  warnings.warn(message)\n"
     ]
    },
    {
     "data": {
      "application/vnd.jupyter.widget-view+json": {
       "model_id": "c3711c27f1404cd19179860979244c7c",
       "version_major": 2,
       "version_minor": 0
      },
      "text/plain": [
       "tokenizer_config.json:   0%|          | 0.00/1.12k [00:00<?, ?B/s]"
      ]
     },
     "metadata": {},
     "output_type": "display_data"
    },
    {
     "data": {
      "application/vnd.jupyter.widget-view+json": {
       "model_id": "3291247340384fc2a11056eaf6ff3d7c",
       "version_major": 2,
       "version_minor": 0
      },
      "text/plain": [
       "vocab.json:   0%|          | 0.00/899k [00:00<?, ?B/s]"
      ]
     },
     "metadata": {},
     "output_type": "display_data"
    },
    {
     "data": {
      "application/vnd.jupyter.widget-view+json": {
       "model_id": "891d5a386da249b98e2f9ebffacbb8f7",
       "version_major": 2,
       "version_minor": 0
      },
      "text/plain": [
       "merges.txt:   0%|          | 0.00/456k [00:00<?, ?B/s]"
      ]
     },
     "metadata": {},
     "output_type": "display_data"
    },
    {
     "data": {
      "application/vnd.jupyter.widget-view+json": {
       "model_id": "2e9e70ab9a8345bb8c2244c657ccd5fd",
       "version_major": 2,
       "version_minor": 0
      },
      "text/plain": [
       "special_tokens_map.json:   0%|          | 0.00/772 [00:00<?, ?B/s]"
      ]
     },
     "metadata": {},
     "output_type": "display_data"
    },
    {
     "name": "stdout",
     "output_type": "stream",
     "text": [
      "torch.Size([1, 3, 384, 384])\n"
     ]
    }
   ],
   "source": [
    "from transformers import TrOCRProcessor\n",
    "\n",
    "processor = TrOCRProcessor.from_pretrained(\"microsoft/trocr-base-printed\")\n",
    "pixel_values = processor(image, return_tensors=\"pt\").pixel_values\n",
    "print(pixel_values.shape)"
   ]
  },
  {
   "cell_type": "code",
   "execution_count": 14,
   "metadata": {},
   "outputs": [
    {
     "data": {
      "application/vnd.jupyter.widget-view+json": {
       "model_id": "125faf77df5647e68cc391bc14522168",
       "version_major": 2,
       "version_minor": 0
      },
      "text/plain": [
       "config.json:   0%|          | 0.00/4.13k [00:00<?, ?B/s]"
      ]
     },
     "metadata": {},
     "output_type": "display_data"
    },
    {
     "data": {
      "application/vnd.jupyter.widget-view+json": {
       "model_id": "7aa10250db1e44f98427856e25ebf8b0",
       "version_major": 2,
       "version_minor": 0
      },
      "text/plain": [
       "model.safetensors:   0%|          | 0.00/1.33G [00:00<?, ?B/s]"
      ]
     },
     "metadata": {},
     "output_type": "display_data"
    },
    {
     "name": "stderr",
     "output_type": "stream",
     "text": [
      "Some weights of VisionEncoderDecoderModel were not initialized from the model checkpoint at microsoft/trocr-base-printed and are newly initialized: ['encoder.pooler.dense.bias', 'encoder.pooler.dense.weight']\n",
      "You should probably TRAIN this model on a down-stream task to be able to use it for predictions and inference.\n"
     ]
    },
    {
     "data": {
      "application/vnd.jupyter.widget-view+json": {
       "model_id": "d781fbb2558e488fa1a228e7f3b7c139",
       "version_major": 2,
       "version_minor": 0
      },
      "text/plain": [
       "generation_config.json:   0%|          | 0.00/190 [00:00<?, ?B/s]"
      ]
     },
     "metadata": {},
     "output_type": "display_data"
    }
   ],
   "source": [
    "from transformers import VisionEncoderDecoderModel\n",
    "\n",
    "model = VisionEncoderDecoderModel.from_pretrained(\"microsoft/trocr-base-printed\")"
   ]
  },
  {
   "cell_type": "code",
   "execution_count": 21,
   "metadata": {},
   "outputs": [
    {
     "name": "stderr",
     "output_type": "stream",
     "text": [
      "c:\\Users\\infin\\AppData\\Local\\Programs\\Python\\Python311\\Lib\\site-packages\\transformers\\generation\\utils.py:1128: UserWarning: Using the model-agnostic default `max_length` (=20) to control the generation length. We recommend setting `max_new_tokens` to control the maximum length of the generation.\n",
      "  warnings.warn(\n"
     ]
    },
    {
     "name": "stdout",
     "output_type": "stream",
     "text": [
      "Updated data saved to ../../data/data-extracted.csv\n"
     ]
    },
    {
     "data": {
      "text/html": [
       "<div>\n",
       "<style scoped>\n",
       "    .dataframe tbody tr th:only-of-type {\n",
       "        vertical-align: middle;\n",
       "    }\n",
       "\n",
       "    .dataframe tbody tr th {\n",
       "        vertical-align: top;\n",
       "    }\n",
       "\n",
       "    .dataframe thead th {\n",
       "        text-align: right;\n",
       "    }\n",
       "</style>\n",
       "<table border=\"1\" class=\"dataframe\">\n",
       "  <thead>\n",
       "    <tr style=\"text-align: right;\">\n",
       "      <th></th>\n",
       "      <th>index</th>\n",
       "      <th>image_link</th>\n",
       "      <th>group_id</th>\n",
       "      <th>entity_name</th>\n",
       "      <th>extracted_text</th>\n",
       "    </tr>\n",
       "  </thead>\n",
       "  <tbody>\n",
       "    <tr>\n",
       "      <th>0</th>\n",
       "      <td>0</td>\n",
       "      <td>https://m.media-amazon.com/images/I/110EibNycl...</td>\n",
       "      <td>156839</td>\n",
       "      <td>height</td>\n",
       "      <td>2.63IN 6.68CM 36N - 75N 91.44CM - 199.39CM</td>\n",
       "    </tr>\n",
       "    <tr>\n",
       "      <th>1</th>\n",
       "      <td>1</td>\n",
       "      <td>https://m.media-amazon.com/images/I/11TU2clswz...</td>\n",
       "      <td>792578</td>\n",
       "      <td>width</td>\n",
       "      <td>SIZE WIDTH LENGTH 42CM/16.54\" 200CM/78.74\" ONE...</td>\n",
       "    </tr>\n",
       "    <tr>\n",
       "      <th>2</th>\n",
       "      <td>2</td>\n",
       "      <td>https://m.media-amazon.com/images/I/11TU2clswz...</td>\n",
       "      <td>792578</td>\n",
       "      <td>height</td>\n",
       "      <td>SIZE WIDTH LENGTH 42CM/16.54\" 200CM/78.74\" ONE...</td>\n",
       "    </tr>\n",
       "    <tr>\n",
       "      <th>3</th>\n",
       "      <td>3</td>\n",
       "      <td>https://m.media-amazon.com/images/I/11TU2clswz...</td>\n",
       "      <td>792578</td>\n",
       "      <td>depth</td>\n",
       "      <td>SIZE WIDTH LENGTH 42CM/16.54\" 200CM/78.74\" ONE...</td>\n",
       "    </tr>\n",
       "    <tr>\n",
       "      <th>4</th>\n",
       "      <td>4</td>\n",
       "      <td>https://m.media-amazon.com/images/I/11gHj8dhhr...</td>\n",
       "      <td>792578</td>\n",
       "      <td>depth</td>\n",
       "      <td>SIZE WIDTH LENGTH 90CM/35.43\" ONE SIZE 10.50CM...</td>\n",
       "    </tr>\n",
       "    <tr>\n",
       "      <th>5</th>\n",
       "      <td>5</td>\n",
       "      <td>https://m.media-amazon.com/images/I/11gHj8dhhr...</td>\n",
       "      <td>792578</td>\n",
       "      <td>height</td>\n",
       "      <td>SIZE WIDTH LENGTH 90CM/35.43\" ONE SIZE 10.50CM...</td>\n",
       "    </tr>\n",
       "    <tr>\n",
       "      <th>6</th>\n",
       "      <td>6</td>\n",
       "      <td>https://m.media-amazon.com/images/I/11gHj8dhhr...</td>\n",
       "      <td>792578</td>\n",
       "      <td>width</td>\n",
       "      <td>SIZE WIDTH LENGTH 90CM/35.43\" ONE SIZE 10.50CM...</td>\n",
       "    </tr>\n",
       "    <tr>\n",
       "      <th>7</th>\n",
       "      <td>7</td>\n",
       "      <td>https://m.media-amazon.com/images/I/11lshEUmCr...</td>\n",
       "      <td>156839</td>\n",
       "      <td>height</td>\n",
       "      <td>3.56CM 5.49 137.16CM</td>\n",
       "    </tr>\n",
       "    <tr>\n",
       "      <th>8</th>\n",
       "      <td>8</td>\n",
       "      <td>https://m.media-amazon.com/images/I/21+i52HRW4...</td>\n",
       "      <td>478357</td>\n",
       "      <td>width</td>\n",
       "      <td>30 CM 40 CM 15 CM</td>\n",
       "    </tr>\n",
       "    <tr>\n",
       "      <th>9</th>\n",
       "      <td>9</td>\n",
       "      <td>https://m.media-amazon.com/images/I/21-LmSmehZ...</td>\n",
       "      <td>478357</td>\n",
       "      <td>height</td>\n",
       "      <td>30 CM 40 CM 15 CM</td>\n",
       "    </tr>\n",
       "    <tr>\n",
       "      <th>10</th>\n",
       "      <td>10</td>\n",
       "      <td>https://m.media-amazon.com/images/I/213oP6n7jt...</td>\n",
       "      <td>953313</td>\n",
       "      <td>item_weight</td>\n",
       "      <td>EXCEPLANCE 1 TB... X(X)</td>\n",
       "    </tr>\n",
       "    <tr>\n",
       "      <th>11</th>\n",
       "      <td>11</td>\n",
       "      <td>https://m.media-amazon.com/images/I/213wY3gUsm...</td>\n",
       "      <td>276611</td>\n",
       "      <td>width</td>\n",
       "      <td>30.6CM 139.5CM 41.6CM</td>\n",
       "    </tr>\n",
       "    <tr>\n",
       "      <th>12</th>\n",
       "      <td>12</td>\n",
       "      <td>https://m.media-amazon.com/images/I/214CLs1ozn...</td>\n",
       "      <td>648011</td>\n",
       "      <td>depth</td>\n",
       "      <td>4.3 IN 10 CM</td>\n",
       "    </tr>\n",
       "    <tr>\n",
       "      <th>13</th>\n",
       "      <td>13</td>\n",
       "      <td>https://m.media-amazon.com/images/I/214CLs1ozn...</td>\n",
       "      <td>648011</td>\n",
       "      <td>height</td>\n",
       "      <td>4.3 IN 10 CM</td>\n",
       "    </tr>\n",
       "    <tr>\n",
       "      <th>14</th>\n",
       "      <td>14</td>\n",
       "      <td>https://m.media-amazon.com/images/I/214CLs1ozn...</td>\n",
       "      <td>648011</td>\n",
       "      <td>width</td>\n",
       "      <td>4.3 IN 10 CM</td>\n",
       "    </tr>\n",
       "    <tr>\n",
       "      <th>15</th>\n",
       "      <td>15</td>\n",
       "      <td>https://m.media-amazon.com/images/I/216rjgJHAe...</td>\n",
       "      <td>279307</td>\n",
       "      <td>item_weight</td>\n",
       "      <td>SALINGING ORECK</td>\n",
       "    </tr>\n",
       "    <tr>\n",
       "      <th>16</th>\n",
       "      <td>16</td>\n",
       "      <td>https://m.media-amazon.com/images/I/2174yonQBt...</td>\n",
       "      <td>569206</td>\n",
       "      <td>maximum_weight_recommendation</td>\n",
       "      <td>IN/100%</td>\n",
       "    </tr>\n",
       "    <tr>\n",
       "      <th>17</th>\n",
       "      <td>17</td>\n",
       "      <td>https://m.media-amazon.com/images/I/218BCzgKxu...</td>\n",
       "      <td>348551</td>\n",
       "      <td>item_weight</td>\n",
       "      <td>BLACK RED GREEN BLACK WHITE GREEN 208-240V = 1...</td>\n",
       "    </tr>\n",
       "    <tr>\n",
       "      <th>18</th>\n",
       "      <td>18</td>\n",
       "      <td>https://m.media-amazon.com/images/I/218BCzgKxu...</td>\n",
       "      <td>348551</td>\n",
       "      <td>wattage</td>\n",
       "      <td>BLACK RED GREEN BLACK WHITE GREEN 208-240V = 1...</td>\n",
       "    </tr>\n",
       "  </tbody>\n",
       "</table>\n",
       "</div>"
      ],
      "text/plain": [
       "    index                                         image_link  group_id  \\\n",
       "0       0  https://m.media-amazon.com/images/I/110EibNycl...    156839   \n",
       "1       1  https://m.media-amazon.com/images/I/11TU2clswz...    792578   \n",
       "2       2  https://m.media-amazon.com/images/I/11TU2clswz...    792578   \n",
       "3       3  https://m.media-amazon.com/images/I/11TU2clswz...    792578   \n",
       "4       4  https://m.media-amazon.com/images/I/11gHj8dhhr...    792578   \n",
       "5       5  https://m.media-amazon.com/images/I/11gHj8dhhr...    792578   \n",
       "6       6  https://m.media-amazon.com/images/I/11gHj8dhhr...    792578   \n",
       "7       7  https://m.media-amazon.com/images/I/11lshEUmCr...    156839   \n",
       "8       8  https://m.media-amazon.com/images/I/21+i52HRW4...    478357   \n",
       "9       9  https://m.media-amazon.com/images/I/21-LmSmehZ...    478357   \n",
       "10     10  https://m.media-amazon.com/images/I/213oP6n7jt...    953313   \n",
       "11     11  https://m.media-amazon.com/images/I/213wY3gUsm...    276611   \n",
       "12     12  https://m.media-amazon.com/images/I/214CLs1ozn...    648011   \n",
       "13     13  https://m.media-amazon.com/images/I/214CLs1ozn...    648011   \n",
       "14     14  https://m.media-amazon.com/images/I/214CLs1ozn...    648011   \n",
       "15     15  https://m.media-amazon.com/images/I/216rjgJHAe...    279307   \n",
       "16     16  https://m.media-amazon.com/images/I/2174yonQBt...    569206   \n",
       "17     17  https://m.media-amazon.com/images/I/218BCzgKxu...    348551   \n",
       "18     18  https://m.media-amazon.com/images/I/218BCzgKxu...    348551   \n",
       "\n",
       "                      entity_name  \\\n",
       "0                          height   \n",
       "1                           width   \n",
       "2                          height   \n",
       "3                           depth   \n",
       "4                           depth   \n",
       "5                          height   \n",
       "6                           width   \n",
       "7                          height   \n",
       "8                           width   \n",
       "9                          height   \n",
       "10                    item_weight   \n",
       "11                          width   \n",
       "12                          depth   \n",
       "13                         height   \n",
       "14                          width   \n",
       "15                    item_weight   \n",
       "16  maximum_weight_recommendation   \n",
       "17                    item_weight   \n",
       "18                        wattage   \n",
       "\n",
       "                                       extracted_text  \n",
       "0          2.63IN 6.68CM 36N - 75N 91.44CM - 199.39CM  \n",
       "1   SIZE WIDTH LENGTH 42CM/16.54\" 200CM/78.74\" ONE...  \n",
       "2   SIZE WIDTH LENGTH 42CM/16.54\" 200CM/78.74\" ONE...  \n",
       "3   SIZE WIDTH LENGTH 42CM/16.54\" 200CM/78.74\" ONE...  \n",
       "4   SIZE WIDTH LENGTH 90CM/35.43\" ONE SIZE 10.50CM...  \n",
       "5   SIZE WIDTH LENGTH 90CM/35.43\" ONE SIZE 10.50CM...  \n",
       "6   SIZE WIDTH LENGTH 90CM/35.43\" ONE SIZE 10.50CM...  \n",
       "7                                3.56CM 5.49 137.16CM  \n",
       "8                                   30 CM 40 CM 15 CM  \n",
       "9                                   30 CM 40 CM 15 CM  \n",
       "10                            EXCEPLANCE 1 TB... X(X)  \n",
       "11                              30.6CM 139.5CM 41.6CM  \n",
       "12                                       4.3 IN 10 CM  \n",
       "13                                       4.3 IN 10 CM  \n",
       "14                                       4.3 IN 10 CM  \n",
       "15                                    SALINGING ORECK  \n",
       "16                                            IN/100%  \n",
       "17  BLACK RED GREEN BLACK WHITE GREEN 208-240V = 1...  \n",
       "18  BLACK RED GREEN BLACK WHITE GREEN 208-240V = 1...  "
      ]
     },
     "execution_count": 21,
     "metadata": {},
     "output_type": "execute_result"
    }
   ],
   "source": [
    "import os\n",
    "import pandas as pd\n",
    "from PIL import Image\n",
    "import torch\n",
    "from transformers import AutoTokenizer, AutoModelForCausalLM\n",
    "\n",
    "# Define paths\n",
    "data_csv_path = '../../data/data-cross-section.csv'\n",
    "images_dir = '../../data/preprocessed'\n",
    "output_csv_path = '../../data/data-extracted.csv'\n",
    "\n",
    "# Load CSV file\n",
    "df = pd.read_csv(data_csv_path)\n",
    "\n",
    "def extract_text_from_image(image_path):\n",
    "    # Load image\n",
    "    image = Image.open(image_path).convert(\"RGB\")\n",
    "    \n",
    "    # Preprocess image\n",
    "    pixel_values = processor(image, return_tensors=\"pt\").pixel_values\n",
    "    \n",
    "    # Perform OCR\n",
    "    with torch.no_grad():\n",
    "        generated_ids = model.generate(pixel_values)\n",
    "        generated_text = processor.batch_decode(generated_ids, skip_special_tokens=True)[0]\n",
    "    \n",
    "    return generated_text\n",
    "\n",
    "# Ensure 'extracted_text' column exists in DataFrame\n",
    "if 'extracted_text' not in df.columns:\n",
    "    df['extracted_text'] = ''\n",
    "\n",
    "# Iterate through folders and images\n",
    "for index, row in df.iterrows():\n",
    "    folder_path = os.path.join(images_dir, str(index))\n",
    "    \n",
    "    if os.path.exists(folder_path):\n",
    "        for image_name in os.listdir(folder_path):\n",
    "            image_path = os.path.join(folder_path, image_name)\n",
    "            extracted_text = extract_text_from_image(image_path)\n",
    "            \n",
    "            # Append extracted text to the existing text in the DataFrame\n",
    "            current_text = df.at[index, 'extracted_text']\n",
    "            if current_text:\n",
    "                df.at[index, 'extracted_text'] = f\"{current_text} {extracted_text}\"\n",
    "            else:\n",
    "                df.at[index, 'extracted_text'] = extracted_text\n",
    "\n",
    "# Save the updated DataFrame to a new CSV file\n",
    "df.to_csv(output_csv_path, index=False)\n",
    "\n",
    "print(f\"Updated data saved to {output_csv_path}\")\n",
    "\n",
    "df"
   ]
  }
 ],
 "metadata": {
  "kernelspec": {
   "display_name": "Python 3",
   "language": "python",
   "name": "python3"
  },
  "language_info": {
   "codemirror_mode": {
    "name": "ipython",
    "version": 3
   },
   "file_extension": ".py",
   "mimetype": "text/x-python",
   "name": "python",
   "nbconvert_exporter": "python",
   "pygments_lexer": "ipython3",
   "version": "3.11.1"
  }
 },
 "nbformat": 4,
 "nbformat_minor": 2
}
