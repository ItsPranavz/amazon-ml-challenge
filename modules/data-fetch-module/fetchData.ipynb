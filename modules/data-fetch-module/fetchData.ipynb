{
 "cells": [
  {
   "cell_type": "code",
   "execution_count": 1,
   "metadata": {},
   "outputs": [],
   "source": [
    "import os\n",
    "import cv2\n",
    "import requests\n",
    "import numpy as np\n",
    "import pandas as pd"
   ]
  },
  {
   "cell_type": "code",
   "execution_count": 2,
   "metadata": {},
   "outputs": [
    {
     "name": "stdout",
     "output_type": "stream",
     "text": [
      "Image saved at ../../data/images\\0.jpg\n",
      "Image saved at ../../data/images\\1.jpg\n",
      "Image saved at ../../data/images\\2.jpg\n",
      "Image saved at ../../data/images\\3.jpg\n",
      "Image saved at ../../data/images\\4.jpg\n",
      "Image saved at ../../data/images\\5.jpg\n",
      "Image saved at ../../data/images\\6.jpg\n",
      "Image saved at ../../data/images\\7.jpg\n",
      "Image saved at ../../data/images\\8.jpg\n",
      "Image saved at ../../data/images\\9.jpg\n",
      "Image saved at ../../data/images\\10.jpg\n",
      "Image saved at ../../data/images\\11.jpg\n",
      "Image saved at ../../data/images\\12.jpg\n",
      "Image saved at ../../data/images\\13.jpg\n",
      "Image saved at ../../data/images\\14.jpg\n",
      "Image saved at ../../data/images\\15.jpg\n",
      "Image saved at ../../data/images\\16.jpg\n",
      "Image saved at ../../data/images\\17.jpg\n",
      "Image saved at ../../data/images\\18.jpg\n",
      "Image download and save complete.\n"
     ]
    }
   ],
   "source": [
    "def fetch_and_save_images(csv_file, images_folder='images'):\n",
    "    df = pd.read_csv(csv_file)\n",
    "\n",
    "    if not os.path.exists(images_folder):\n",
    "        os.makedirs(images_folder)\n",
    "\n",
    "    def fetch_and_save_image(url, image_path):\n",
    "        try:\n",
    "            response = requests.get(url, stream=True)\n",
    "            if response.status_code == 200:\n",
    "                img_array = np.asarray(bytearray(response.content), dtype=np.uint8)\n",
    "                img = cv2.imdecode(img_array, cv2.IMREAD_COLOR)\n",
    "                cv2.imwrite(image_path, img)\n",
    "                print(f\"Image saved at {image_path}\")\n",
    "            else:\n",
    "                print(f\"Failed to fetch image from {url}\")\n",
    "        except Exception as e:\n",
    "            print(f\"Error fetching image from {url}: {str(e)}\")\n",
    "\n",
    "    for _, row in df.iterrows():\n",
    "        image_url = row['image_link']\n",
    "        image_index = row['index']\n",
    "\n",
    "        image_path = os.path.join(images_folder, f\"{image_index}.jpg\")\n",
    "\n",
    "        fetch_and_save_image(image_url, image_path)\n",
    "\n",
    "    print(\"Image download and save complete.\")\n",
    "\n",
    "fetch_and_save_images('../../data/data-cross-section.csv', images_folder='../../data/images')"
   ]
  }
 ],
 "metadata": {
  "kernelspec": {
   "display_name": "Python 3",
   "language": "python",
   "name": "python3"
  },
  "language_info": {
   "codemirror_mode": {
    "name": "ipython",
    "version": 3
   },
   "file_extension": ".py",
   "mimetype": "text/x-python",
   "name": "python",
   "nbconvert_exporter": "python",
   "pygments_lexer": "ipython3",
   "version": "3.11.1"
  }
 },
 "nbformat": 4,
 "nbformat_minor": 2
}
